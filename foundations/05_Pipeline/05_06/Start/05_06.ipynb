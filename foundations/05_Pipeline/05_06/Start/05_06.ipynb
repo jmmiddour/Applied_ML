{
 "cells": [
  {
   "cell_type": "markdown",
   "metadata": {},
   "source": [
    "## Pipeline: Tune hyperparameters\n",
    "\n",
    "Using the Titanic dataset from [this](https://www.kaggle.com/c/titanic/overview) Kaggle competition.\n",
    "\n",
    "In this section, we will tune the hyperparameters for the basic model we fit in the last section."
   ]
  },
  {
   "cell_type": "markdown",
   "metadata": {},
   "source": [
    "### Read in data\n",
    "\n",
    "![Tune Hyperparameters](../../img/tune_hyperparameters.png)"
   ]
  },
  {
   "cell_type": "code",
   "execution_count": 1,
   "metadata": {},
   "outputs": [],
   "source": [
    "import pandas as pd\n",
    "from sklearn.ensemble import RandomForestClassifier\n",
    "from sklearn.model_selection import GridSearchCV\n",
    "\n",
    "tr_features = pd.read_csv('../../../train_features.csv')\n",
    "tr_labels = pd.read_csv('../../../train_labels.csv')"
   ]
  },
  {
   "cell_type": "markdown",
   "metadata": {},
   "source": [
    "### Hyperparameter tuning\n",
    "\n",
    "![Hyperparameters](../../img/hyperparameters.png)"
   ]
  },
  {
   "cell_type": "code",
   "execution_count": 2,
   "metadata": {},
   "outputs": [],
   "source": [
    "def print_results(results):\n",
    "    \"\"\"\n",
    "    Function to print out metrics on our model\n",
    "    \"\"\"\n",
    "    # Show the best parameters and score\n",
    "    print(f'BEST PARAMS: {results.best_params_}\\n')\n",
    "    print(f'BEST SCORE: {results.best_score_}\\n')\n",
    "\n",
    "    # Assign the means and standard deviations to variables\n",
    "    means = results.cv_results_['mean_test_score']\n",
    "    stds = results.cv_results_['std_test_score']\n",
    "    \n",
    "    # Iterate throught the means, standard divations, and parameters to print results\n",
    "    for mean, std, params in zip(means, stds, results.cv_results_['params']):\n",
    "        print(\n",
    "            f'MEAN: {round(mean, 3)} with STD: (+/-{round(std * 2, 3)}) for PARAMETERS: {params}'\n",
    "        )"
   ]
  },
  {
   "cell_type": "code",
   "execution_count": 3,
   "metadata": {},
   "outputs": [
    {
     "name": "stdout",
     "output_type": "stream",
     "text": [
      "BEST PARAMS: {'max_depth': 10, 'n_estimators': 5}\n",
      "\n",
      "BEST SCORE: 0.8315464644683477\n",
      "\n",
      "MEAN: 0.766 with STD: (+/-0.124) for PARAMETERS: {'max_depth': 2, 'n_estimators': 5}\n",
      "MEAN: 0.802 with STD: (+/-0.095) for PARAMETERS: {'max_depth': 2, 'n_estimators': 50}\n",
      "MEAN: 0.798 with STD: (+/-0.116) for PARAMETERS: {'max_depth': 2, 'n_estimators': 100}\n",
      "MEAN: 0.832 with STD: (+/-0.066) for PARAMETERS: {'max_depth': 10, 'n_estimators': 5}\n",
      "MEAN: 0.817 with STD: (+/-0.053) for PARAMETERS: {'max_depth': 10, 'n_estimators': 50}\n",
      "MEAN: 0.822 with STD: (+/-0.047) for PARAMETERS: {'max_depth': 10, 'n_estimators': 100}\n",
      "MEAN: 0.809 with STD: (+/-0.061) for PARAMETERS: {'max_depth': 20, 'n_estimators': 5}\n",
      "MEAN: 0.824 with STD: (+/-0.021) for PARAMETERS: {'max_depth': 20, 'n_estimators': 50}\n",
      "MEAN: 0.815 with STD: (+/-0.029) for PARAMETERS: {'max_depth': 20, 'n_estimators': 100}\n",
      "MEAN: 0.792 with STD: (+/-0.033) for PARAMETERS: {'max_depth': None, 'n_estimators': 5}\n",
      "MEAN: 0.813 with STD: (+/-0.031) for PARAMETERS: {'max_depth': None, 'n_estimators': 50}\n",
      "MEAN: 0.809 with STD: (+/-0.025) for PARAMETERS: {'max_depth': None, 'n_estimators': 100}\n"
     ]
    }
   ],
   "source": [
    "# Instantiate our Random Forest Classifier\n",
    "rf = RandomForestClassifier()\n",
    "\n",
    "# Set up a dictionary to map our parameters to check against\n",
    "parameters = {\n",
    "    'n_estimators': [5, 50, 100],  # How many inidividual trees within our Random Forest\n",
    "    'max_depth': [2, 10, 20, None]  # How deep each tree goes\n",
    "}\n",
    "\n",
    "# Set up our GridSearch CV and fit it on our training data\n",
    "cv = GridSearchCV(rf, parameters, cv=5)\n",
    "cv.fit(tr_features, tr_labels.values.ravel())\n",
    "\n",
    "# Print out the results of our GridSearch\n",
    "print_results(cv)"
   ]
  },
  {
   "cell_type": "code",
   "execution_count": null,
   "metadata": {},
   "outputs": [],
   "source": []
  }
 ],
 "metadata": {
  "kernelspec": {
   "display_name": "Python 3",
   "language": "python",
   "name": "python3"
  },
  "language_info": {
   "codemirror_mode": {
    "name": "ipython",
    "version": 3
   },
   "file_extension": ".py",
   "mimetype": "text/x-python",
   "name": "python",
   "nbconvert_exporter": "python",
   "pygments_lexer": "ipython3",
   "version": "3.8.3"
  }
 },
 "nbformat": 4,
 "nbformat_minor": 2
}
